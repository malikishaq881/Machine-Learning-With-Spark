{
 "cells": [
  {
   "cell_type": "code",
   "execution_count": 1,
   "metadata": {
    "_cell_guid": "b1076dfc-b9ad-4769-8c92-a6c4dae69d19",
    "_uuid": "8f2839f25d086af736a60e9eeb907d3b93b6e0e5"
   },
   "outputs": [
    {
     "name": "stdout",
     "output_type": "stream",
     "text": [
      "['flights.csv', 'airports.csv', 'raw-flight-data.csv']\n"
     ]
    }
   ],
   "source": [
    "# This Python 3 environment comes with many helpful analytics libraries installed\n",
    "# It is defined by the kaggle/python docker image: https://github.com/kaggle/docker-python\n",
    "# For example, here's several helpful packages to load in \n",
    "\n",
    "import numpy as np # linear algebra\n",
    "import pandas as pd # data processing, CSV file I/O (e.g. pd.read_csv)\n",
    "\n",
    "# Input data files are available in the \"../input/\" directory.\n",
    "# For example, running this (by clicking run or pressing Shift+Enter) will list the files in the input directory\n",
    "\n",
    "import os\n",
    "print(os.listdir(\"../input\"))\n",
    "\n",
    "# Any results you write to the current directory are saved as output."
   ]
  },
  {
   "cell_type": "markdown",
   "metadata": {},
   "source": [
    "## Machine Learning with Spark"
   ]
  },
  {
   "cell_type": "markdown",
   "metadata": {},
   "source": [
    "This is a tutorial of machine learning with PySpark. I will create a classification model and a regression model using Pipelines."
   ]
  },
  {
   "cell_type": "markdown",
   "metadata": {},
   "source": [
    "### Install Spark\n",
    "Uncommet the code below to install PySpark and sparkmagic."
   ]
  },
  {
   "cell_type": "code",
   "execution_count": 2,
   "metadata": {},
   "outputs": [],
   "source": [
    "#!pip install sparkmagic\n",
    "#!pip install pyspark"
   ]
  },
  {
   "cell_type": "markdown",
   "metadata": {},
   "source": [
    "### Import Spark SQL and Spark ML Libraries\n",
    "\n",
    "We'll train a **LogisticRegression** model with a **Pipleline** preparing the data, a **CrossValidator** to tuene the parameters of the model, and a **BinaryClassificationEvaluator** to evaluate our trained model."
   ]
  },
  {
   "cell_type": "code",
   "execution_count": 3,
   "metadata": {},
   "outputs": [],
   "source": [
    "from pyspark.sql.types import *\n",
    "from pyspark.sql.functions import *\n",
    "from pyspark.sql import SparkSession\n",
    "\n",
    "from pyspark.ml import Pipeline\n",
    "#from pyspark.ml.classification import DecisionTreeClassifier\n",
    "from pyspark.ml.feature import VectorAssembler, StringIndexer, VectorIndexer, MinMaxScaler\n",
    "from pyspark.ml.classification import LogisticRegression\n",
    "from pyspark.ml.tuning import ParamGridBuilder, CrossValidator\n",
    "from pyspark.ml.evaluation import BinaryClassificationEvaluator\n",
    "\n",
    "spark = SparkSession.builder.master(\"local[*]\").getOrCreate()"
   ]
  },
  {
   "cell_type": "markdown",
   "metadata": {},
   "source": [
    "### Load Source Data\n",
    "The data from the flight.csv file data includes specific characteristics (or features) for each flight, as well as a column indicating how many minutes late or early the flight arrived."
   ]
  },
  {
   "cell_type": "code",
   "execution_count": 4,
   "metadata": {},
   "outputs": [
    {
     "name": "stdout",
     "output_type": "stream",
     "text": [
      "+----------+---------+-------+---------------+-------------+--------+--------+\n",
      "|DayofMonth|DayOfWeek|Carrier|OriginAirportID|DestAirportID|DepDelay|ArrDelay|\n",
      "+----------+---------+-------+---------------+-------------+--------+--------+\n",
      "|        19|        5|     DL|          11433|        13303|      -3|       1|\n",
      "|        19|        5|     DL|          14869|        12478|       0|      -8|\n",
      "|        19|        5|     DL|          14057|        14869|      -4|     -15|\n",
      "|        19|        5|     DL|          15016|        11433|      28|      24|\n",
      "|        19|        5|     DL|          11193|        12892|      -6|     -11|\n",
      "|        19|        5|     DL|          10397|        15016|      -1|     -19|\n",
      "|        19|        5|     DL|          15016|        10397|       0|      -1|\n",
      "|        19|        5|     DL|          10397|        14869|      15|      24|\n",
      "|        19|        5|     DL|          10397|        10423|      33|      34|\n",
      "|        19|        5|     DL|          11278|        10397|     323|     322|\n",
      "+----------+---------+-------+---------------+-------------+--------+--------+\n",
      "only showing top 10 rows\n",
      "\n"
     ]
    }
   ],
   "source": [
    "csv = spark.read.csv('../input/flights.csv', inferSchema=True, header=True)\n",
    "csv.show(10)"
   ]
  },
  {
   "cell_type": "markdown",
   "metadata": {},
   "source": [
    "### Prepare the Data for a Classification Model (Decision Tree Learning Model)\n",
    "I select a subset of columns to use as features and create a Boolean label field named *label* with values 1 or 0. Specifically, **1** for flight that arrived late, **0** for flight was early or on-time."
   ]
  },
  {
   "cell_type": "code",
   "execution_count": 5,
   "metadata": {},
   "outputs": [
    {
     "name": "stdout",
     "output_type": "stream",
     "text": [
      "+----------+---------+-------+---------------+-------------+--------+-----+\n",
      "|DayofMonth|DayOfWeek|Carrier|OriginAirportID|DestAirportID|DepDelay|label|\n",
      "+----------+---------+-------+---------------+-------------+--------+-----+\n",
      "|        19|        5|     DL|          11433|        13303|      -3|    0|\n",
      "|        19|        5|     DL|          14869|        12478|       0|    0|\n",
      "|        19|        5|     DL|          14057|        14869|      -4|    0|\n",
      "|        19|        5|     DL|          15016|        11433|      28|    1|\n",
      "|        19|        5|     DL|          11193|        12892|      -6|    0|\n",
      "|        19|        5|     DL|          10397|        15016|      -1|    0|\n",
      "|        19|        5|     DL|          15016|        10397|       0|    0|\n",
      "|        19|        5|     DL|          10397|        14869|      15|    1|\n",
      "|        19|        5|     DL|          10397|        10423|      33|    1|\n",
      "|        19|        5|     DL|          11278|        10397|     323|    1|\n",
      "+----------+---------+-------+---------------+-------------+--------+-----+\n",
      "only showing top 10 rows\n",
      "\n"
     ]
    }
   ],
   "source": [
    "data = csv.select(\"DayofMonth\", \"DayOfWeek\", \"Carrier\", \"OriginAirportID\", \"DestAirportID\", \"DepDelay\", ((col(\"ArrDelay\") > 15).cast(\"Int\").alias(\"label\")))\n",
    "data.show(10)"
   ]
  },
  {
   "cell_type": "markdown",
   "metadata": {},
   "source": [
    "### Split the Data\n",
    "\n",
    "I will use 70% of the data for training, and reserve 30% for testing. In the testing data, the *label* column is renamed to *trueLabel* so I can use it later to compare predicted labels with known actual values."
   ]
  },
  {
   "cell_type": "code",
   "execution_count": 6,
   "metadata": {},
   "outputs": [
    {
     "name": "stdout",
     "output_type": "stream",
     "text": [
      "Training Rows: 1891032  Testing Rows: 811186\n"
     ]
    }
   ],
   "source": [
    "splits = data.randomSplit([0.7, 0.3])\n",
    "train = splits[0]\n",
    "test = splits[1].withColumnRenamed(\"label\", \"trueLabel\")\n",
    "train_rows = train.count()\n",
    "test_rows = test.count()\n",
    "print(\"Training Rows:\", train_rows, \" Testing Rows:\", test_rows)"
   ]
  },
  {
   "cell_type": "markdown",
   "metadata": {},
   "source": [
    "### Define the Pipeline\n",
    "\n",
    "A pipeline consists of a series of transformer and estimator stages that typically prepare a DataFrame for modeling and then train a predictive model. In this case, you will create a pipeline with seven stages:\n",
    "* A **StringIndexer estimator** that converts string values to indexes for categorical features\n",
    "* A **VectorAssembler** that combines categorical features into a single vector\n",
    "* A **VectorIndexer** that creates indexes for a vector of categorical features\n",
    "* A **VectorAssembler** that creates a vector of continuous numeric features\n",
    "* A **MinMaxScaler** that normalizes continuous numeric features\n",
    "* A **VectorAssembler** that creates a vector of categorical and continuous features\n",
    "* A **DecisionTreeClassifier** that trains a classification model."
   ]
  },
  {
   "cell_type": "code",
   "execution_count": 7,
   "metadata": {},
   "outputs": [],
   "source": [
    "strIdx = StringIndexer(inputCol = \"Carrier\", outputCol = \"CarrierIdx\")\n",
    "catVect = VectorAssembler(inputCols = [\"CarrierIdx\", \"DayofMonth\", \"DayOfWeek\", \"OriginAirportID\", \"DestAirportID\"], outputCol=\"catFeatures\")\n",
    "catIdx = VectorIndexer(inputCol = catVect.getOutputCol(), outputCol = \"idxCatFeatures\")\n",
    "numVect = VectorAssembler(inputCols = [\"DepDelay\"], outputCol=\"numFeatures\")\n",
    "minMax = MinMaxScaler(inputCol = numVect.getOutputCol(), outputCol=\"normFeatures\")\n",
    "featVect = VectorAssembler(inputCols=[\"idxCatFeatures\", \"normFeatures\"], outputCol=\"features\")\n",
    "lr = LogisticRegression(labelCol=\"label\",featuresCol=\"features\",maxIter=10,regParam=0.3)\n",
    "#dt = DecisionTreeClassifier(labelCol=\"label\", featuresCol=\"features\")\n",
    "pipeline = Pipeline(stages=[strIdx, catVect, catIdx, numVect, minMax, featVect, lr])"
   ]
  },
  {
   "cell_type": "markdown",
   "metadata": {},
   "source": [
    "### Run the Pipeline to train a model\n",
    "Run the pipeline as an Estimator on the training data to train a model."
   ]
  },
  {
   "cell_type": "code",
   "execution_count": 8,
   "metadata": {},
   "outputs": [],
   "source": [
    "piplineModel = pipeline.fit(train)"
   ]
  },
  {
   "cell_type": "markdown",
   "metadata": {},
   "source": [
    "### Generate label predictions\n",
    "Transform the test data with all of the stages and the trained model in the pipeline to generate label predictions."
   ]
  },
  {
   "cell_type": "code",
   "execution_count": 9,
   "metadata": {},
   "outputs": [
    {
     "name": "stdout",
     "output_type": "stream",
     "text": [
      "+---------------------------------------------------+----------+---------+\n",
      "|features                                           |prediction|trueLabel|\n",
      "+---------------------------------------------------+----------+---------+\n",
      "|[10.0,1.0,0.0,10397.0,12191.0,0.03016120644825793] |0.0       |0        |\n",
      "|[10.0,1.0,0.0,10397.0,13851.0,0.03224128965158606] |0.0       |0        |\n",
      "|[10.0,1.0,0.0,10423.0,11433.0,0.029641185647425898]|0.0       |0        |\n",
      "|[10.0,1.0,0.0,10423.0,11433.0,0.03848153926157046] |0.0       |1        |\n",
      "|[10.0,1.0,0.0,10423.0,13487.0,0.028081123244929798]|0.0       |0        |\n",
      "|[10.0,1.0,0.0,10423.0,14869.0,0.026001040041601663]|0.0       |0        |\n",
      "|[10.0,1.0,0.0,10423.0,14869.0,0.028081123244929798]|0.0       |0        |\n",
      "|[10.0,1.0,0.0,10529.0,11193.0,0.0358814352574103]  |0.0       |0        |\n",
      "|[10.0,1.0,0.0,10529.0,13487.0,0.029121164846593862]|0.0       |1        |\n",
      "|[10.0,1.0,0.0,10721.0,11193.0,0.02860114404576183] |0.0       |1        |\n",
      "|[10.0,1.0,0.0,10721.0,12478.0,0.029641185647425898]|0.0       |1        |\n",
      "|[10.0,1.0,0.0,10721.0,12478.0,0.031721268850754034]|0.0       |0        |\n",
      "|[10.0,1.0,0.0,10721.0,13931.0,0.02704108164326573] |0.0       |0        |\n",
      "|[10.0,1.0,0.0,10721.0,13931.0,0.031201248049921998]|0.0       |1        |\n",
      "|[10.0,1.0,0.0,10792.0,11433.0,0.03536141445657826] |0.0       |1        |\n",
      "|[10.0,1.0,0.0,10792.0,12478.0,0.031201248049921998]|0.0       |0        |\n",
      "|[10.0,1.0,0.0,10821.0,11193.0,0.026001040041601663]|0.0       |0        |\n",
      "|[10.0,1.0,0.0,10821.0,11193.0,0.055122204888195525]|0.0       |1        |\n",
      "|[10.0,1.0,0.0,10821.0,11193.0,0.07696307852314092] |0.0       |1        |\n",
      "|[10.0,1.0,0.0,10821.0,12478.0,0.031201248049921998]|0.0       |0        |\n",
      "|[10.0,1.0,0.0,10821.0,13487.0,0.027561102444097763]|0.0       |0        |\n",
      "|[10.0,1.0,0.0,10821.0,13487.0,0.06604264170566823] |0.0       |1        |\n",
      "|[10.0,1.0,0.0,11042.0,11433.0,0.028081123244929798]|0.0       |0        |\n",
      "|[10.0,1.0,0.0,11042.0,11433.0,0.02860114404576183] |0.0       |0        |\n",
      "|[10.0,1.0,0.0,11042.0,12478.0,0.029121164846593862]|0.0       |0        |\n",
      "|[10.0,1.0,0.0,11042.0,13487.0,0.0265210608424337]  |0.0       |0        |\n",
      "|[10.0,1.0,0.0,11057.0,11193.0,0.0265210608424337]  |0.0       |0        |\n",
      "|[10.0,1.0,0.0,11057.0,11193.0,0.02860114404576183] |0.0       |0        |\n",
      "|[10.0,1.0,0.0,11057.0,12478.0,0.047321892875715026]|0.0       |1        |\n",
      "|[10.0,1.0,0.0,11057.0,12478.0,0.08528341133645345] |0.0       |1        |\n",
      "|[10.0,1.0,0.0,11057.0,13244.0,0.029641185647425898]|0.0       |0        |\n",
      "|[10.0,1.0,0.0,11066.0,10721.0,0.037961518460738426]|0.0       |0        |\n",
      "|[10.0,1.0,0.0,11066.0,12478.0,0.0811232449297972]  |0.0       |1        |\n",
      "|[10.0,1.0,0.0,11066.0,13487.0,0.02860114404576183] |0.0       |0        |\n",
      "|[10.0,1.0,0.0,11066.0,13487.0,0.030681227249089962]|0.0       |0        |\n",
      "|[10.0,1.0,0.0,11066.0,14492.0,0.03016120644825793] |0.0       |0        |\n",
      "|[10.0,1.0,0.0,11193.0,10529.0,0.028081123244929798]|0.0       |0        |\n",
      "|[10.0,1.0,0.0,11193.0,10721.0,0.031201248049921998]|0.0       |0        |\n",
      "|[10.0,1.0,0.0,11193.0,10821.0,0.029121164846593862]|0.0       |0        |\n",
      "|[10.0,1.0,0.0,11193.0,10821.0,0.0327613104524181]  |0.0       |0        |\n",
      "|[10.0,1.0,0.0,11193.0,10821.0,0.06344253770150807] |0.0       |1        |\n",
      "|[10.0,1.0,0.0,11193.0,11057.0,0.031721268850754034]|0.0       |0        |\n",
      "|[10.0,1.0,0.0,11193.0,11278.0,0.029641185647425898]|0.0       |0        |\n",
      "|[10.0,1.0,0.0,11193.0,11278.0,0.10816432657306292] |1.0       |1        |\n",
      "|[10.0,1.0,0.0,11193.0,11298.0,0.030681227249089962]|0.0       |0        |\n",
      "|[10.0,1.0,0.0,11193.0,11433.0,0.029641185647425898]|0.0       |0        |\n",
      "|[10.0,1.0,0.0,11193.0,11433.0,0.10712428497139885] |1.0       |1        |\n",
      "|[10.0,1.0,0.0,11193.0,11618.0,0.02860114404576183] |0.0       |0        |\n",
      "|[10.0,1.0,0.0,11193.0,11618.0,0.031721268850754034]|0.0       |0        |\n",
      "|[10.0,1.0,0.0,11193.0,13198.0,0.026001040041601663]|0.0       |0        |\n",
      "|[10.0,1.0,0.0,11193.0,13244.0,0.03016120644825793] |0.0       |0        |\n",
      "|[10.0,1.0,0.0,11193.0,13342.0,0.029641185647425898]|0.0       |0        |\n",
      "|[10.0,1.0,0.0,11193.0,13342.0,0.059802392095683825]|0.0       |1        |\n",
      "|[10.0,1.0,0.0,11193.0,13487.0,0.027561102444097763]|0.0       |0        |\n",
      "|[10.0,1.0,0.0,11193.0,13487.0,0.028081123244929798]|0.0       |0        |\n",
      "|[10.0,1.0,0.0,11193.0,13487.0,0.029121164846593862]|0.0       |0        |\n",
      "|[10.0,1.0,0.0,11193.0,13487.0,0.029121164846593862]|0.0       |0        |\n",
      "|[10.0,1.0,0.0,11193.0,13487.0,0.029641185647425898]|0.0       |0        |\n",
      "|[10.0,1.0,0.0,11193.0,13495.0,0.029641185647425898]|0.0       |1        |\n",
      "|[10.0,1.0,0.0,11193.0,13930.0,0.028081123244929798]|0.0       |0        |\n",
      "|[10.0,1.0,0.0,11193.0,13930.0,0.02860114404576183] |0.0       |0        |\n",
      "|[10.0,1.0,0.0,11193.0,13930.0,0.02860114404576183] |0.0       |0        |\n",
      "|[10.0,1.0,0.0,11193.0,13930.0,0.029121164846593862]|0.0       |0        |\n",
      "|[10.0,1.0,0.0,11193.0,13930.0,0.030681227249089962]|0.0       |0        |\n",
      "|[10.0,1.0,0.0,11193.0,13930.0,0.04628185127405096] |0.0       |1        |\n",
      "|[10.0,1.0,0.0,11193.0,13930.0,0.047321892875715026]|0.0       |1        |\n",
      "|[10.0,1.0,0.0,11193.0,13930.0,0.07072282891315652] |0.0       |1        |\n",
      "|[10.0,1.0,0.0,11193.0,14100.0,0.027561102444097763]|0.0       |0        |\n",
      "|[10.0,1.0,0.0,11193.0,14100.0,0.028081123244929798]|0.0       |0        |\n",
      "|[10.0,1.0,0.0,11193.0,14100.0,0.0998439937597504]  |1.0       |1        |\n",
      "|[10.0,1.0,0.0,11193.0,14122.0,0.027561102444097763]|0.0       |0        |\n",
      "|[10.0,1.0,0.0,11193.0,15016.0,0.029641185647425898]|0.0       |0        |\n",
      "|[10.0,1.0,0.0,11278.0,11193.0,0.02860114404576183] |0.0       |0        |\n",
      "|[10.0,1.0,0.0,11278.0,12478.0,0.039521580863234526]|0.0       |0        |\n",
      "|[10.0,1.0,0.0,11278.0,13244.0,0.0452418096723869]  |0.0       |1        |\n",
      "|[10.0,1.0,0.0,11298.0,11193.0,0.04628185127405096] |0.0       |0        |\n",
      "|[10.0,1.0,0.0,11298.0,12478.0,0.02860114404576183] |0.0       |0        |\n",
      "|[10.0,1.0,0.0,11298.0,13244.0,0.027561102444097763]|0.0       |0        |\n",
      "|[10.0,1.0,0.0,11298.0,13487.0,0.029121164846593862]|0.0       |0        |\n",
      "|[10.0,1.0,0.0,11298.0,14869.0,0.029121164846593862]|0.0       |0        |\n",
      "|[10.0,1.0,0.0,11433.0,10423.0,0.03016120644825793] |0.0       |0        |\n",
      "|[10.0,1.0,0.0,11433.0,10693.0,0.031201248049921998]|0.0       |0        |\n",
      "|[10.0,1.0,0.0,11433.0,10693.0,0.031721268850754034]|0.0       |1        |\n",
      "|[10.0,1.0,0.0,11433.0,10693.0,0.036401456058242326]|0.0       |0        |\n",
      "|[10.0,1.0,0.0,11433.0,10792.0,0.03224128965158606] |0.0       |1        |\n",
      "|[10.0,1.0,0.0,11433.0,11042.0,0.02860114404576183] |0.0       |0        |\n",
      "|[10.0,1.0,0.0,11433.0,11193.0,0.031201248049921998]|0.0       |0        |\n",
      "|[10.0,1.0,0.0,11433.0,11193.0,0.0748829953198128]  |0.0       |1        |\n",
      "|[10.0,1.0,0.0,11433.0,11278.0,0.030681227249089962]|0.0       |0        |\n",
      "|[10.0,1.0,0.0,11433.0,12264.0,0.042641705668226726]|0.0       |1        |\n",
      "|[10.0,1.0,0.0,11433.0,12339.0,0.028081123244929798]|0.0       |0        |\n",
      "|[10.0,1.0,0.0,11433.0,12339.0,0.030681227249089962]|0.0       |0        |\n",
      "|[10.0,1.0,0.0,11433.0,12339.0,0.03536141445657826] |0.0       |1        |\n",
      "|[10.0,1.0,0.0,11433.0,12339.0,0.08008320332813312] |0.0       |1        |\n",
      "|[10.0,1.0,0.0,11433.0,12451.0,0.04160166406656266] |0.0       |1        |\n",
      "|[10.0,1.0,0.0,11433.0,12478.0,0.030681227249089962]|0.0       |0        |\n",
      "|[10.0,1.0,0.0,11433.0,12478.0,0.031201248049921998]|0.0       |1        |\n",
      "|[10.0,1.0,0.0,11433.0,13232.0,0.029121164846593862]|0.0       |0        |\n",
      "|[10.0,1.0,0.0,11433.0,13232.0,0.029641185647425898]|0.0       |0        |\n",
      "|[10.0,1.0,0.0,11433.0,13232.0,0.03016120644825793] |0.0       |0        |\n",
      "+---------------------------------------------------+----------+---------+\n",
      "only showing top 100 rows\n",
      "\n"
     ]
    }
   ],
   "source": [
    "prediction = piplineModel.transform(test)\n",
    "predicted = prediction.select(\"features\", \"prediction\", \"trueLabel\")\n",
    "predicted.show(100, truncate=False)"
   ]
  },
  {
   "cell_type": "markdown",
   "metadata": {},
   "source": [
    "Looking into the results, some trueLabel 1s are predicted as 0. Let's evaluate the model."
   ]
  },
  {
   "cell_type": "markdown",
   "metadata": {},
   "source": [
    "## Evaluating a Classification Model\n",
    "We'll calculate a *Confusion Matrix* and the *Area Under ROC* (Receiver Operating Characteristic) to evaluate the model. \n",
    "### Compute Confusion Matrix\n",
    "Classifiers are typically evaluated by creating a *confusion matrix*, which indicates the number of:\n",
    "- True Positives\n",
    "- True Negatives\n",
    "- False Positives\n",
    "- False Negatives\n",
    "\n",
    "From these core measures, other evaluation metrics such as *precision*, *recall* and *F1* can be calculated."
   ]
  },
  {
   "cell_type": "code",
   "execution_count": 10,
   "metadata": {},
   "outputs": [
    {
     "name": "stdout",
     "output_type": "stream",
     "text": [
      "+---------+-------------------+\n",
      "|   metric|              value|\n",
      "+---------+-------------------+\n",
      "|       TP|            18759.0|\n",
      "|       FP|               83.0|\n",
      "|       TN|           650041.0|\n",
      "|       FN|           142303.0|\n",
      "|Precision| 0.9955949474578071|\n",
      "|   Recall|0.11647067588878816|\n",
      "|       F1|0.20854455709711844|\n",
      "+---------+-------------------+\n",
      "\n"
     ]
    }
   ],
   "source": [
    "tp = float(predicted.filter(\"prediction == 1.0 AND truelabel == 1\").count())\n",
    "fp = float(predicted.filter(\"prediction == 1.0 AND truelabel == 0\").count())\n",
    "tn = float(predicted.filter(\"prediction == 0.0 AND truelabel == 0\").count())\n",
    "fn = float(predicted.filter(\"prediction == 0.0 AND truelabel == 1\").count())\n",
    "pr = tp / (tp + fp)\n",
    "re = tp / (tp + fn)\n",
    "metrics = spark.createDataFrame([\n",
    " (\"TP\", tp),\n",
    " (\"FP\", fp),\n",
    " (\"TN\", tn),\n",
    " (\"FN\", fn),\n",
    " (\"Precision\", pr),\n",
    " (\"Recall\", re),\n",
    " (\"F1\", 2*pr*re/(re+pr))],[\"metric\", \"value\"])\n",
    "metrics.show()"
   ]
  },
  {
   "cell_type": "markdown",
   "metadata": {},
   "source": [
    "Looks like we've got a good *Precision*, but a low *Recall*, therefore our *F1* is not that good."
   ]
  },
  {
   "cell_type": "markdown",
   "metadata": {},
   "source": [
    "### Review the Area Under ROC\n",
    "Another way to assess the performance of a classification model is to measure the area under a ROC (Receiver Operating Characteristic) curve for the model. the spark.ml library includes a **BinaryClassificationEvaluator** class that we can use to compute this. The ROC curve shows the True Positive and False Positive rates plotted for varying thresholds."
   ]
  },
  {
   "cell_type": "code",
   "execution_count": 11,
   "metadata": {},
   "outputs": [
    {
     "name": "stdout",
     "output_type": "stream",
     "text": [
      "AUR =  0.9149270214049525\n"
     ]
    }
   ],
   "source": [
    "evaluator = BinaryClassificationEvaluator(labelCol=\"trueLabel\", rawPredictionCol=\"rawPrediction\", metricName=\"areaUnderROC\")\n",
    "aur = evaluator.evaluate(prediction)\n",
    "print (\"AUR = \", aur)"
   ]
  },
  {
   "cell_type": "markdown",
   "metadata": {},
   "source": [
    "So the AUR shows that our model is ok.\n",
    "Let's look deeper."
   ]
  },
  {
   "cell_type": "markdown",
   "metadata": {},
   "source": [
    "### View the Raw Prediction and Probability\n",
    "The prediction is based on a raw prediction score that describes a labelled point in a logistic function. This raw prediction is then converted to a predicted label of 0 or 1 based on a probability vector that indicates the confidence for each possible label value (in this case, 0 and 1). The value with the highest confidence is selected as the prediction."
   ]
  },
  {
   "cell_type": "code",
   "execution_count": 12,
   "metadata": {},
   "outputs": [
    {
     "name": "stdout",
     "output_type": "stream",
     "text": [
      "+------------------------------------------+----------------------------------------+----------+---------+\n",
      "|rawPrediction                             |probability                             |prediction|trueLabel|\n",
      "+------------------------------------------+----------------------------------------+----------+---------+\n",
      "|[1.4710705750692856,-1.4710705750692856]  |[0.8132200536339997,0.1867799463660003] |0.0       |0        |\n",
      "|[1.477695471760931,-1.477695471760931]    |[0.8142242429626004,0.18577575703739965]|0.0       |0        |\n",
      "|[1.457561859594791,-1.457561859594791]    |[0.811159484292705,0.18884051570729507] |0.0       |0        |\n",
      "|[1.2234997353114885,-1.2234997353114885]  |[0.7726788513462777,0.22732114865372224]|0.0       |1        |\n",
      "|[1.575209341335448,-1.575209341335448]    |[0.8285249734744844,0.1714750265255157] |0.0       |0        |\n",
      "|[1.6816485068617677,-1.6816485068617677]  |[0.8431226972201813,0.15687730277981873]|0.0       |0        |\n",
      "|[1.6265750658539317,-1.6265750658539317]  |[0.8356999167777079,0.16430008322229206]|0.0       |0        |\n",
      "|[1.287074302220181,-1.287074302220181]    |[0.7836515728078457,0.2163484271921543] |0.0       |0        |\n",
      "|[1.5513256280755332,-1.5513256280755332]  |[0.8251051112552076,0.17489488874479248]|0.0       |1        |\n",
      "|[1.486448113585801,-1.486448113585801]    |[0.815544555244631,0.18445544475536893] |0.0       |1        |\n",
      "|[1.5066718532890115,-1.5066718532890115]  |[0.8185674518300047,0.18143254816999532]|0.0       |1        |\n",
      "|[1.4515984122811756,-1.4515984122811756]  |[0.8102443093018286,0.18975569069817147]|0.0       |0        |\n",
      "|[1.629518283872509,-1.629518283872509]    |[0.8361036378100672,0.16389636218993275]|0.0       |0        |\n",
      "|[1.5193714018568374,-1.5193714018568374]  |[0.8204458976697933,0.17955410233020672]|0.0       |1        |\n",
      "|[1.3188264975122723,-1.3188264975122723]  |[0.7889864000331418,0.21101359996685812]|0.0       |1        |\n",
      "|[1.467813598139967,-1.467813598139967]    |[0.8127248362338836,0.1872751637661164] |0.0       |0        |\n",
      "|[1.5587361480946553,-1.5587361480946553]  |[0.826171923652911,0.1738280763470889]  |0.0       |0        |\n",
      "|[0.7877079739849528,-0.7877079739849528]  |[0.6873389764021871,0.3126610235978129] |0.0       |1        |\n",
      "|[0.20943684340267588,-0.20943684340267588]|[0.5521686571892084,0.4478313428107916] |0.0       |1        |\n",
      "|[1.4688130057821942,-1.4688130057821942]  |[0.8128769017128116,0.18712309828718846]|0.0       |0        |\n",
      "|[1.6026937099186642,-1.6026937099186642]  |[0.8323945316082605,0.16760546839173945]|0.0       |0        |\n",
      "|[0.5838350512736998,-0.5838350512736998]  |[0.6419493733567635,0.3580506266432365] |0.0       |1        |\n",
      "|[1.520199124162347,-1.520199124162347]    |[0.8205678007661049,0.17943219923389506]|0.0       |0        |\n",
      "|[1.5064307639103882,-1.5064307639103882]  |[0.8185316437443041,0.18146835625569588]|0.0       |0        |\n",
      "|[1.5315026222704522,-1.5315026222704522]  |[0.8222260594177122,0.17777394058228782]|0.0       |0        |\n",
      "|[1.637846605903004,-1.637846605903004]    |[0.8372417117104682,0.16275828828953168]|0.0       |0        |\n",
      "|[1.5531008983104773,-1.5531008983104773]  |[0.8253611467472092,0.17463885325279072]|0.0       |0        |\n",
      "|[1.4980274573026413,-1.4980274573026413]  |[0.8172800941347051,0.18271990586529485]|0.0       |0        |\n",
      "|[1.0501269484392468,-1.0501269484392468]  |[0.7407992760218254,0.25920072397817473]|0.0       |1        |\n",
      "|[0.0450366500462418,-0.0450366500462418]  |[0.5112572598176826,0.4887427401823174] |0.0       |1        |\n",
      "|[1.5467216347635646,-1.5467216347635646]  |[0.824439729571305,0.17556027042869513] |0.0       |0        |\n",
      "|[1.2329639919560873,-1.2329639919560873]  |[0.7743369211170156,0.22566307888298437]|0.0       |0        |\n",
      "|[0.1554936930543287,-0.1554936930543287]  |[0.5387952877725786,0.46120471222742143]|0.0       |1        |\n",
      "|[1.5836002608749424,-1.5836002608749424]  |[0.8297137985503982,0.17028620144960183]|0.0       |0        |\n",
      "|[1.5285268198671065,-1.5285268198671065]  |[0.8217906681222108,0.17820933187778923]|0.0       |0        |\n",
      "|[1.5796486917985708,-1.5796486917985708]  |[0.8291547584152388,0.1708452415847613] |0.0       |0        |\n",
      "|[1.4918033596935287,-1.4918033596935287]  |[0.8163487927276274,0.18365120727237255]|0.0       |0        |\n",
      "|[1.4163293914578596,-1.4163293914578596]  |[0.8047623357797685,0.19523766422023148]|0.0       |0        |\n",
      "|[1.4751195997969897,-1.4751195997969897]  |[0.8138342931090372,0.1861657068909628] |0.0       |0        |\n",
      "|[1.3787410780332767,-1.3787410780332767]  |[0.798788735758386,0.201211264241614]   |0.0       |0        |\n",
      "|[0.566407823167697,-0.566407823167697]    |[0.6379338866145946,0.36206611338540545]|0.0       |1        |\n",
      "|[1.4150493694390485,-1.4150493694390485]  |[0.8045611403648879,0.19543885963511215]|0.0       |0        |\n",
      "|[1.4783368662490444,-1.4783368662490444]  |[0.8143212427444905,0.18567875725550959]|0.0       |0        |\n",
      "|[-0.6006855317967608,0.6006855317967608]  |[0.3541868705680308,0.6458131294319692] |1.0       |1        |\n",
      "|[1.4515434992113854,-1.4515434992113854]  |[0.8102358663576092,0.18976413364239067]|0.0       |0        |\n",
      "|[1.4840978556125501,-1.4840978556125501]  |[0.8151907398676543,0.1848092601323457] |0.0       |0        |\n",
      "|[-0.5673878219293371,0.5673878219293371]  |[0.36183978952481965,0.6381602104751803]|1.0       |1        |\n",
      "|[1.5185105956793623,-1.5185105956793623]  |[0.8203190535202003,0.17968094647979965]|0.0       |0        |\n",
      "|[1.4359004341676083,-1.4359004341676083]  |[0.8078190072860966,0.1921809927139034] |0.0       |0        |\n",
      "|[1.6460773207736032,-1.6460773207736032]  |[0.8383601840908038,0.16163981590919624]|0.0       |0        |\n",
      "|[1.5376401517303266,-1.5376401517303266]  |[0.8231214108271246,0.1768785891728754] |0.0       |0        |\n",
      "|[1.5550509439669538,-1.5550509439669538]  |[0.8256420482579638,0.17435795174203625]|0.0       |0        |\n",
      "|[0.7564860493533332,-0.7564860493533332]  |[0.680590331364842,0.31940966863515796] |0.0       |1        |\n",
      "|[1.615513697605166,-1.615513697605166]    |[0.8341754842182407,0.16582451578175922]|0.0       |0        |\n",
      "|[1.6017453373532071,-1.6017453373532071]  |[0.8322621787641942,0.1677378212358058] |0.0       |0        |\n",
      "|[1.5742086168492893,-1.5742086168492893]  |[0.8283827524588233,0.1716172475411767] |0.0       |0        |\n",
      "|[1.5742086168492893,-1.5742086168492893]  |[0.8283827524588233,0.1716172475411767] |0.0       |0        |\n",
      "|[1.5604402565973303,-1.5604402565973303]  |[0.8264165178596998,0.17358348214030025]|0.0       |0        |\n",
      "|[1.5607375979838336,-1.5607375979838336]  |[0.826459168012838,0.1735408319871621]  |0.0       |1        |\n",
      "|[1.6182106166308396,-1.6182106166308396]  |[0.8345482041130444,0.16545179588695547]|0.0       |0        |\n",
      "|[1.604442256378881,-1.604442256378881]    |[0.8326383363379651,0.16736166366203487]|0.0       |0        |\n",
      "|[1.604442256378881,-1.604442256378881]    |[0.8326383363379651,0.16736166366203487]|0.0       |0        |\n",
      "|[1.5906738961269218,-1.5906738961269218]  |[0.8307108944054562,0.16928910559454388]|0.0       |0        |\n",
      "|[1.549368815371045,-1.549368815371045]    |[0.824822550470114,0.17517744952988598] |0.0       |0        |\n",
      "|[1.1363180078122757,-1.1363180078122757]  |[0.7570029795735375,0.24299702042646246]|0.0       |1        |\n",
      "|[1.1087812873083578,-1.1087812873083578]  |[0.751901835914529,0.24809816408547103] |0.0       |1        |\n",
      "|[0.4892050759702038,-0.4892050759702038]  |[0.6199191506850795,0.3800808493149205] |0.0       |1        |\n",
      "|[1.6382974813459987,-1.6382974813459987]  |[0.8373031422761016,0.16269685772389836]|0.0       |0        |\n",
      "|[1.6245291210940396,-1.6245291210940396]  |[0.8354188041980382,0.16458119580196193]|0.0       |0        |\n",
      "|[-0.27550459367629876,0.27550459367629876]|[0.4315562276243886,0.5684437723756114] |1.0       |1        |\n",
      "|[1.6391151701588833,-1.6391151701588833]  |[0.8374145025145728,0.16258549748542714]|0.0       |0        |\n",
      "|[1.6172696290928164,-1.6172696290928164]  |[0.8344182340013461,0.16558176599865382]|0.0       |0        |\n",
      "|[1.5056436327830631,-1.5056436327830631]  |[0.8184146958662597,0.18158530413374027]|0.0       |0        |\n",
      "|[1.2642685276990533,-1.2642685276990533]  |[0.7797600358073726,0.2202399641926274] |0.0       |0        |\n",
      "|[1.141287002685217,-1.141287002685217]    |[0.7579158558755595,0.24208414412444051]|0.0       |1        |\n",
      "|[1.03820863086627,-1.03820863086627]      |[0.7385042123396601,0.2614957876603398] |0.0       |0        |\n",
      "|[1.5540933396400036,-1.5540933396400036]  |[0.8255041511755639,0.17449584882443606]|0.0       |0        |\n",
      "|[1.6101004979016342,-1.6101004979016342]  |[0.8334253387688588,0.16657466123114117]|0.0       |0        |\n",
      "|[1.5778271617608017,-1.5778271617608017]  |[0.8288965709416771,0.17110342905832293]|0.0       |0        |\n",
      "|[1.6291928862792857,-1.6291928862792857]  |[0.8360590422872298,0.16394095771277017]|0.0       |0        |\n",
      "|[1.4410611051122644,-1.4410611051122644]  |[0.8086189158635628,0.19138108413643717]|0.0       |0        |\n",
      "|[1.4235596564028403,-1.4235596564028403]  |[0.8058958517654258,0.19410414823457411]|0.0       |0        |\n",
      "|[1.4097912961508814,-1.4097912961508814]  |[0.8037330234715042,0.19626697652849578]|0.0       |1        |\n",
      "|[1.2858760538832508,-1.2858760538832508]  |[0.7834483505977669,0.21655164940223318]|0.0       |0        |\n",
      "|[1.3997025355569037,-1.3997025355569037]  |[0.8021366812008481,0.1978633187991519] |0.0       |1        |\n",
      "|[1.5053729756488514,-1.5053729756488514]  |[0.8183744694796705,0.18162553052032956]|0.0       |0        |\n",
      "|[1.4421434930593107,-1.4421434930593107]  |[0.80878636417106,0.19121363582894002]  |0.0       |0        |\n",
      "|[0.2856012318947565,-0.2856012318947565]  |[0.5709189022537929,0.4290810977462071] |0.0       |1        |\n",
      "|[1.4590711055428696,-1.4590711055428696]  |[0.8113905616864082,0.1886094383135918] |0.0       |0        |\n",
      "|[1.1790461456343726,-1.1790461456343726]  |[0.764776254869243,0.23522374513075697] |0.0       |1        |\n",
      "|[1.5673478081876944,-1.5673478081876944]  |[0.8274051885992211,0.17259481140077898]|0.0       |0        |\n",
      "|[1.4985060069278997,-1.4985060069278997]  |[0.8173515466991821,0.18264845330081797]|0.0       |0        |\n",
      "|[1.3745907646602689,-1.3745907646602689]  |[0.7981208481655898,0.2018791518344101] |0.0       |1        |\n",
      "|[0.19051178299179683,-0.19051178299179683]|[0.5474844130169338,0.4525155869830662] |0.0       |1        |\n",
      "|[1.2135332210478105,-1.2135332210478105]  |[0.7709235146756362,0.22907648532436367]|0.0       |1        |\n",
      "|[1.5036723135183983,-1.5036723135183983]  |[0.8181215500953275,0.18187844990467245]|0.0       |0        |\n",
      "|[1.4899039532664393,-1.4899039532664393]  |[0.8160638560539364,0.18393614394606367]|0.0       |1        |\n",
      "|[1.5730018199522324,-1.5730018199522324]  |[0.828211120462631,0.17178887953736904] |0.0       |0        |\n",
      "|[1.5592334597002735,-1.5592334597002735]  |[0.8262433319211187,0.17375666807888127]|0.0       |0        |\n",
      "|[1.5454650994483146,-1.5454650994483146]  |[0.824257785930848,0.17574221406915197] |0.0       |0        |\n",
      "+------------------------------------------+----------------------------------------+----------+---------+\n",
      "only showing top 100 rows\n",
      "\n"
     ]
    }
   ],
   "source": [
    "prediction.select(\"rawPrediction\", \"probability\", \"prediction\", \"trueLabel\").show(100, truncate=False)"
   ]
  },
  {
   "cell_type": "markdown",
   "metadata": {},
   "source": [
    "Note that the results include rows where the probability for 0 (the first value in the probability vector) is only slightly higher than the probability for 1 (the second value in the probability vector). The default discrimination threshold (the boundary that decides whether a probability is predicted as a 1 or a 0) is set to 0.5; so the prediction with the highest probability is always used, no matter how close to the threshold.\n",
    "\n",
    "And we can see from the results above that for those *truelabel* 1s that we predicted 0s, many of them the problibilty of 1 is just slightly less than the threshold 0.5."
   ]
  },
  {
   "cell_type": "markdown",
   "metadata": {},
   "source": [
    "## Tune Parameters \n",
    "To find the best performing parameters, we can use the **CrossValidator** class to evaluate each combination of parameters defined in a **ParameterGrid** against multiple *folds* of the data split into training and validation datasets. Note that this can take a long time to run because every parameter combination is tried multiple times."
   ]
  },
  {
   "cell_type": "markdown",
   "metadata": {},
   "source": [
    "### Change the Discrimination Threshold\n",
    "The AUC score seems to indicate a reasonably good model, but the performance metrics seem to indicate that it predicts a high number of *False Negative* labels (i.e. it predicts 0 when the true label is 1), leading to a low *Recall*. We can improve this by lowering the threshold. Conversely, sometimes we may want to address a large number of *False Positive* by raising the threshold. \n",
    "\n",
    "In this case, I'll let the **CrossValidator** find the best threshold from 0.45, 0.4 and 0.35, regularization parameter from 0.3 and 0.1, and the maximum number of iterations allowed from 10 and 5."
   ]
  },
  {
   "cell_type": "code",
   "execution_count": 13,
   "metadata": {},
   "outputs": [],
   "source": [
    "paramGrid = ParamGridBuilder().addGrid(lr.regParam, [0.3, 0.1]).addGrid(lr.maxIter, [10, 5]).addGrid(lr.threshold, \n",
    "                                                                                            [0.4, 0.3]).build()\n",
    "cv = CrossValidator(estimator=pipeline, evaluator=BinaryClassificationEvaluator(), estimatorParamMaps=paramGrid, \n",
    "                    numFolds=2)\n",
    "\n",
    "model = cv.fit(train)"
   ]
  },
  {
   "cell_type": "code",
   "execution_count": 14,
   "metadata": {},
   "outputs": [
    {
     "name": "stdout",
     "output_type": "stream",
     "text": [
      "+--------------------+----------+---------+\n",
      "|            features|prediction|trueLabel|\n",
      "+--------------------+----------+---------+\n",
      "|[10.0,1.0,0.0,103...|       0.0|        0|\n",
      "|[10.0,1.0,0.0,103...|       0.0|        0|\n",
      "|[10.0,1.0,0.0,104...|       0.0|        0|\n",
      "|[10.0,1.0,0.0,104...|       0.0|        1|\n",
      "|[10.0,1.0,0.0,104...|       0.0|        0|\n",
      "|[10.0,1.0,0.0,104...|       0.0|        0|\n",
      "|[10.0,1.0,0.0,104...|       0.0|        0|\n",
      "|[10.0,1.0,0.0,105...|       0.0|        0|\n",
      "|[10.0,1.0,0.0,105...|       0.0|        1|\n",
      "|[10.0,1.0,0.0,107...|       0.0|        1|\n",
      "|[10.0,1.0,0.0,107...|       0.0|        1|\n",
      "|[10.0,1.0,0.0,107...|       0.0|        0|\n",
      "|[10.0,1.0,0.0,107...|       0.0|        0|\n",
      "|[10.0,1.0,0.0,107...|       0.0|        1|\n",
      "|[10.0,1.0,0.0,107...|       0.0|        1|\n",
      "|[10.0,1.0,0.0,107...|       0.0|        0|\n",
      "|[10.0,1.0,0.0,108...|       0.0|        0|\n",
      "|[10.0,1.0,0.0,108...|       0.0|        1|\n",
      "|[10.0,1.0,0.0,108...|       0.0|        1|\n",
      "|[10.0,1.0,0.0,108...|       0.0|        0|\n",
      "+--------------------+----------+---------+\n",
      "only showing top 20 rows\n",
      "\n"
     ]
    }
   ],
   "source": [
    "newPrediction = model.transform(test)\n",
    "newPredicted = prediction.select(\"features\", \"prediction\", \"trueLabel\")\n",
    "newPredicted.show()"
   ]
  },
  {
   "cell_type": "markdown",
   "metadata": {},
   "source": [
    "Note that some of the **rawPrediction** and **probability** values that were previously predicted as 0 are now predicted as 1"
   ]
  },
  {
   "cell_type": "code",
   "execution_count": 15,
   "metadata": {},
   "outputs": [
    {
     "name": "stdout",
     "output_type": "stream",
     "text": [
      "+---------+-------------------+\n",
      "|   metric|              value|\n",
      "+---------+-------------------+\n",
      "|       TP|            57527.0|\n",
      "|       FP|              191.0|\n",
      "|       TN|           649933.0|\n",
      "|       FN|           103535.0|\n",
      "|Precision| 0.9966908070272705|\n",
      "|   Recall|0.35717301411878655|\n",
      "|       F1| 0.5258890209342719|\n",
      "+---------+-------------------+\n",
      "\n"
     ]
    }
   ],
   "source": [
    "# Recalculate confusion matrix\n",
    "tp2 = float(newPrediction.filter(\"prediction == 1.0 AND truelabel == 1\").count())\n",
    "fp2 = float(newPrediction.filter(\"prediction == 1.0 AND truelabel == 0\").count())\n",
    "tn2 = float(newPrediction.filter(\"prediction == 0.0 AND truelabel == 0\").count())\n",
    "fn2 = float(newPrediction.filter(\"prediction == 0.0 AND truelabel == 1\").count())\n",
    "pr2 = tp2 / (tp2 + fp2)\n",
    "re2 = tp2 / (tp2 + fn2)\n",
    "metrics2 = spark.createDataFrame([\n",
    " (\"TP\", tp2),\n",
    " (\"FP\", fp2),\n",
    " (\"TN\", tn2),\n",
    " (\"FN\", fn2),\n",
    " (\"Precision\", pr2),\n",
    " (\"Recall\", re2),\n",
    " (\"F1\", 2*pr2*re2/(re2+pr2))],[\"metric\", \"value\"])\n",
    "metrics2.show()"
   ]
  },
  {
   "cell_type": "code",
   "execution_count": 16,
   "metadata": {},
   "outputs": [
    {
     "name": "stdout",
     "output_type": "stream",
     "text": [
      "AUR2 =  0.9149270214048859\n"
     ]
    }
   ],
   "source": [
    "# Recalculate the Area Under ROC\n",
    "evaluator2 = BinaryClassificationEvaluator(labelCol=\"trueLabel\", rawPredictionCol=\"prediction\", metricName=\"areaUnderROC\")\n",
    "aur2 = evaluator.evaluate(prediction)\n",
    "print( \"AUR2 = \", aur2)"
   ]
  },
  {
   "cell_type": "markdown",
   "metadata": {},
   "source": [
    "Looks pretty good! The new model improves the *Recall* from 0.11 to 0.37, the *F1* score from 0.20 to 0.54, without compromising other metrics.\n",
    "\n",
    "## Next Step\n",
    "\n",
    "There is still much room to improve the model. For example, I can try more options of lower threshold, or use different classfication models, or prepare data better like adding new features. I'll write another one for this."
   ]
  }
 ],
 "metadata": {
  "kernelspec": {
   "display_name": "Python 3",
   "language": "python",
   "name": "python3"
  },
  "language_info": {
   "codemirror_mode": {
    "name": "ipython",
    "version": 3
   },
   "file_extension": ".py",
   "mimetype": "text/x-python",
   "name": "python",
   "nbconvert_exporter": "python",
   "pygments_lexer": "ipython3",
   "version": "3.6.4"
  }
 },
 "nbformat": 4,
 "nbformat_minor": 1
}
